{
 "cells": [
  {
   "cell_type": "code",
   "execution_count": 62,
   "id": "019db984",
   "metadata": {},
   "outputs": [],
   "source": [
    "import numpy as np\n",
    "from sklearn.datasets import load_boston\n",
    "from sklearn.model_selection import train_test_split\n",
    "from sklearn.metrics import mean_squared_error\n",
    "from sklearn.metrics import r2_score\n",
    "from catboost import CatBoostClassifier\n",
    "import pandas as pd\n",
    "import pickle\n",
    "from sklearn.metrics import roc_curve, auc\n",
    "import matplotlib.pyplot as plt\n",
    "import sklearn.tree as tree\n",
    "from sklearn.ensemble import RandomForestClassifier\n",
    "from sklearn.tree import DecisionTreeClassifier\n",
    "from xgboost import XGBClassifier\n",
    "from imblearn.over_sampling import RandomOverSampler\n",
    "from imblearn.pipeline import Pipeline\n",
    "from sklearn.model_selection import RepeatedStratifiedKFold\n",
    "from sklearn.model_selection import cross_val_score,cross_val_predict,cross_validate\n",
    "from sklearn.metrics import confusion_matrix\n",
    "import scikitplot as skplt\n",
    "from sklearn.metrics import make_scorer\n",
    "from sklearn.metrics import mean_squared_error\n",
    "from sklearn import linear_model,metrics\n",
    "from sklearn.model_selection import KFold\n",
    "from imblearn.pipeline import Pipeline, make_pipeline\n",
    "from imblearn.under_sampling import RandomUnderSampler\n",
    "from imblearn.over_sampling import SMOTE"
   ]
  },
  {
   "cell_type": "markdown",
   "id": "256fd159",
   "metadata": {},
   "source": [
    "### Parámetros"
   ]
  },
  {
   "cell_type": "code",
   "execution_count": 63,
   "id": "66ce32fb",
   "metadata": {},
   "outputs": [],
   "source": [
    "underSample=False ## Mejores resultados unicamente con OverSampler\n",
    "estrategia='RandomOverSampler' #SMOTE o RandomOverSampler"
   ]
  },
  {
   "cell_type": "markdown",
   "id": "94cb4976",
   "metadata": {},
   "source": [
    "### Se cargan los datos"
   ]
  },
  {
   "cell_type": "code",
   "execution_count": 64,
   "id": "e5928e84",
   "metadata": {},
   "outputs": [],
   "source": [
    "pd.options.display.max_columns=1000"
   ]
  },
  {
   "cell_type": "code",
   "execution_count": 65,
   "id": "6fae9208",
   "metadata": {},
   "outputs": [
    {
     "data": {
      "text/html": [
       "<div>\n",
       "<style scoped>\n",
       "    .dataframe tbody tr th:only-of-type {\n",
       "        vertical-align: middle;\n",
       "    }\n",
       "\n",
       "    .dataframe tbody tr th {\n",
       "        vertical-align: top;\n",
       "    }\n",
       "\n",
       "    .dataframe thead th {\n",
       "        text-align: right;\n",
       "    }\n",
       "</style>\n",
       "<table border=\"1\" class=\"dataframe\">\n",
       "  <thead>\n",
       "    <tr style=\"text-align: right;\">\n",
       "      <th></th>\n",
       "      <th>TransactionAmt</th>\n",
       "      <th>ProductCD</th>\n",
       "      <th>card1</th>\n",
       "      <th>card2</th>\n",
       "      <th>card3</th>\n",
       "      <th>card4</th>\n",
       "      <th>card5</th>\n",
       "      <th>card6</th>\n",
       "      <th>addr1</th>\n",
       "      <th>addr2</th>\n",
       "      <th>C1</th>\n",
       "      <th>C2</th>\n",
       "      <th>C4</th>\n",
       "      <th>C6</th>\n",
       "      <th>C7</th>\n",
       "      <th>C8</th>\n",
       "      <th>C9</th>\n",
       "      <th>C10</th>\n",
       "      <th>C11</th>\n",
       "      <th>C12</th>\n",
       "      <th>C13</th>\n",
       "      <th>C14</th>\n",
       "      <th>V12</th>\n",
       "      <th>V13</th>\n",
       "      <th>V19</th>\n",
       "      <th>V20</th>\n",
       "      <th>V29</th>\n",
       "      <th>V30</th>\n",
       "      <th>V53</th>\n",
       "      <th>V54</th>\n",
       "      <th>V56</th>\n",
       "      <th>V60</th>\n",
       "      <th>V61</th>\n",
       "      <th>V62</th>\n",
       "      <th>V64</th>\n",
       "      <th>V69</th>\n",
       "      <th>V70</th>\n",
       "      <th>V282</th>\n",
       "      <th>V283</th>\n",
       "      <th>V290</th>\n",
       "      <th>V291</th>\n",
       "      <th>V292</th>\n",
       "      <th>V302</th>\n",
       "      <th>V303</th>\n",
       "      <th>V304</th>\n",
       "      <th>V310</th>\n",
       "      <th>V314</th>\n",
       "      <th>V315</th>\n",
       "      <th>V317</th>\n",
       "      <th>id_01</th>\n",
       "      <th>id_02</th>\n",
       "      <th>id_05</th>\n",
       "      <th>id_06</th>\n",
       "      <th>id_11</th>\n",
       "      <th>id_12</th>\n",
       "      <th>id_13</th>\n",
       "      <th>id_15</th>\n",
       "      <th>id_16</th>\n",
       "      <th>id_17</th>\n",
       "      <th>id_19</th>\n",
       "      <th>id_20</th>\n",
       "      <th>id_28</th>\n",
       "      <th>id_29</th>\n",
       "      <th>id_31</th>\n",
       "      <th>id_35</th>\n",
       "      <th>id_36</th>\n",
       "      <th>id_37</th>\n",
       "      <th>id_38</th>\n",
       "      <th>DeviceType</th>\n",
       "      <th>isFraud</th>\n",
       "    </tr>\n",
       "  </thead>\n",
       "  <tbody>\n",
       "    <tr>\n",
       "      <th>0</th>\n",
       "      <td>0.002137</td>\n",
       "      <td>590539.0</td>\n",
       "      <td>0.743044</td>\n",
       "      <td>0.525111</td>\n",
       "      <td>0.381679</td>\n",
       "      <td>590490.0</td>\n",
       "      <td>0.306569</td>\n",
       "      <td>590539.0</td>\n",
       "      <td>0.488636</td>\n",
       "      <td>0.836957</td>\n",
       "      <td>0.000213</td>\n",
       "      <td>0.000176</td>\n",
       "      <td>0.0</td>\n",
       "      <td>0.000444</td>\n",
       "      <td>0.0</td>\n",
       "      <td>0.0000</td>\n",
       "      <td>0.004762</td>\n",
       "      <td>0.000000</td>\n",
       "      <td>0.000627</td>\n",
       "      <td>0.0</td>\n",
       "      <td>0.000343</td>\n",
       "      <td>0.0007</td>\n",
       "      <td>0.333333</td>\n",
       "      <td>0.166667</td>\n",
       "      <td>0.142857</td>\n",
       "      <td>0.066667</td>\n",
       "      <td>0.000000</td>\n",
       "      <td>0.00000</td>\n",
       "      <td>0.200000</td>\n",
       "      <td>0.166667</td>\n",
       "      <td>0.019608</td>\n",
       "      <td>0.000000</td>\n",
       "      <td>0.166667</td>\n",
       "      <td>0.100000</td>\n",
       "      <td>0.000000</td>\n",
       "      <td>0.00000</td>\n",
       "      <td>0.000000</td>\n",
       "      <td>0.03125</td>\n",
       "      <td>0.014706</td>\n",
       "      <td>0.0</td>\n",
       "      <td>0.0</td>\n",
       "      <td>0.0</td>\n",
       "      <td>0.0000</td>\n",
       "      <td>0.00</td>\n",
       "      <td>0.0000</td>\n",
       "      <td>0.000000</td>\n",
       "      <td>0.0</td>\n",
       "      <td>0.0</td>\n",
       "      <td>0.000873</td>\n",
       "      <td>0.898295</td>\n",
       "      <td>0.174787</td>\n",
       "      <td>0.593674</td>\n",
       "      <td>0.933013</td>\n",
       "      <td>0.974532</td>\n",
       "      <td>0.0</td>\n",
       "      <td>0.704687</td>\n",
       "      <td>0.0</td>\n",
       "      <td>0.0</td>\n",
       "      <td>0.693422</td>\n",
       "      <td>0.443307</td>\n",
       "      <td>0.541680</td>\n",
       "      <td>0.0</td>\n",
       "      <td>0.0</td>\n",
       "      <td>0.0</td>\n",
       "      <td>0.0</td>\n",
       "      <td>0.0</td>\n",
       "      <td>0.0</td>\n",
       "      <td>0.0</td>\n",
       "      <td>0.0</td>\n",
       "      <td>0</td>\n",
       "    </tr>\n",
       "    <tr>\n",
       "      <th>1</th>\n",
       "      <td>0.000900</td>\n",
       "      <td>590539.0</td>\n",
       "      <td>0.100885</td>\n",
       "      <td>0.608000</td>\n",
       "      <td>0.381679</td>\n",
       "      <td>590539.0</td>\n",
       "      <td>0.014599</td>\n",
       "      <td>590539.0</td>\n",
       "      <td>0.511364</td>\n",
       "      <td>0.836957</td>\n",
       "      <td>0.000213</td>\n",
       "      <td>0.000176</td>\n",
       "      <td>0.0</td>\n",
       "      <td>0.000444</td>\n",
       "      <td>0.0</td>\n",
       "      <td>0.0000</td>\n",
       "      <td>0.000000</td>\n",
       "      <td>0.000000</td>\n",
       "      <td>0.000314</td>\n",
       "      <td>0.0</td>\n",
       "      <td>0.000343</td>\n",
       "      <td>0.0007</td>\n",
       "      <td>0.000000</td>\n",
       "      <td>0.000000</td>\n",
       "      <td>0.142857</td>\n",
       "      <td>0.066667</td>\n",
       "      <td>0.000000</td>\n",
       "      <td>0.00000</td>\n",
       "      <td>0.000000</td>\n",
       "      <td>0.000000</td>\n",
       "      <td>0.019608</td>\n",
       "      <td>0.000000</td>\n",
       "      <td>0.166667</td>\n",
       "      <td>0.100000</td>\n",
       "      <td>0.000000</td>\n",
       "      <td>0.00000</td>\n",
       "      <td>0.000000</td>\n",
       "      <td>0.03125</td>\n",
       "      <td>0.014706</td>\n",
       "      <td>0.0</td>\n",
       "      <td>0.0</td>\n",
       "      <td>0.0</td>\n",
       "      <td>0.0000</td>\n",
       "      <td>0.00</td>\n",
       "      <td>0.0000</td>\n",
       "      <td>0.000000</td>\n",
       "      <td>0.0</td>\n",
       "      <td>0.0</td>\n",
       "      <td>0.000000</td>\n",
       "      <td>0.898295</td>\n",
       "      <td>0.174787</td>\n",
       "      <td>0.593674</td>\n",
       "      <td>0.933013</td>\n",
       "      <td>0.974532</td>\n",
       "      <td>0.0</td>\n",
       "      <td>0.704687</td>\n",
       "      <td>0.0</td>\n",
       "      <td>0.0</td>\n",
       "      <td>0.693422</td>\n",
       "      <td>0.443307</td>\n",
       "      <td>0.541680</td>\n",
       "      <td>0.0</td>\n",
       "      <td>0.0</td>\n",
       "      <td>0.0</td>\n",
       "      <td>0.0</td>\n",
       "      <td>0.0</td>\n",
       "      <td>0.0</td>\n",
       "      <td>0.0</td>\n",
       "      <td>0.0</td>\n",
       "      <td>0</td>\n",
       "    </tr>\n",
       "    <tr>\n",
       "      <th>2</th>\n",
       "      <td>0.001840</td>\n",
       "      <td>590539.0</td>\n",
       "      <td>0.210566</td>\n",
       "      <td>0.780000</td>\n",
       "      <td>0.381679</td>\n",
       "      <td>590535.0</td>\n",
       "      <td>0.481752</td>\n",
       "      <td>590538.0</td>\n",
       "      <td>0.522727</td>\n",
       "      <td>0.836957</td>\n",
       "      <td>0.000213</td>\n",
       "      <td>0.000176</td>\n",
       "      <td>0.0</td>\n",
       "      <td>0.000444</td>\n",
       "      <td>0.0</td>\n",
       "      <td>0.0000</td>\n",
       "      <td>0.004762</td>\n",
       "      <td>0.000000</td>\n",
       "      <td>0.000314</td>\n",
       "      <td>0.0</td>\n",
       "      <td>0.000343</td>\n",
       "      <td>0.0007</td>\n",
       "      <td>0.333333</td>\n",
       "      <td>0.166667</td>\n",
       "      <td>0.142857</td>\n",
       "      <td>0.066667</td>\n",
       "      <td>0.000000</td>\n",
       "      <td>0.00000</td>\n",
       "      <td>0.200000</td>\n",
       "      <td>0.166667</td>\n",
       "      <td>0.019608</td>\n",
       "      <td>0.000000</td>\n",
       "      <td>0.166667</td>\n",
       "      <td>0.100000</td>\n",
       "      <td>0.000000</td>\n",
       "      <td>0.00000</td>\n",
       "      <td>0.000000</td>\n",
       "      <td>0.03125</td>\n",
       "      <td>0.014706</td>\n",
       "      <td>0.0</td>\n",
       "      <td>0.0</td>\n",
       "      <td>0.0</td>\n",
       "      <td>0.0000</td>\n",
       "      <td>0.00</td>\n",
       "      <td>0.0000</td>\n",
       "      <td>0.000000</td>\n",
       "      <td>0.0</td>\n",
       "      <td>0.0</td>\n",
       "      <td>0.000000</td>\n",
       "      <td>0.898295</td>\n",
       "      <td>0.174787</td>\n",
       "      <td>0.593674</td>\n",
       "      <td>0.933013</td>\n",
       "      <td>0.974532</td>\n",
       "      <td>0.0</td>\n",
       "      <td>0.704687</td>\n",
       "      <td>0.0</td>\n",
       "      <td>0.0</td>\n",
       "      <td>0.693422</td>\n",
       "      <td>0.443307</td>\n",
       "      <td>0.541680</td>\n",
       "      <td>0.0</td>\n",
       "      <td>0.0</td>\n",
       "      <td>0.0</td>\n",
       "      <td>0.0</td>\n",
       "      <td>0.0</td>\n",
       "      <td>0.0</td>\n",
       "      <td>0.0</td>\n",
       "      <td>0.0</td>\n",
       "      <td>0</td>\n",
       "    </tr>\n",
       "    <tr>\n",
       "      <th>3</th>\n",
       "      <td>0.001558</td>\n",
       "      <td>590539.0</td>\n",
       "      <td>0.984824</td>\n",
       "      <td>0.934000</td>\n",
       "      <td>0.381679</td>\n",
       "      <td>590539.0</td>\n",
       "      <td>0.124088</td>\n",
       "      <td>590538.0</td>\n",
       "      <td>0.854545</td>\n",
       "      <td>0.836957</td>\n",
       "      <td>0.000427</td>\n",
       "      <td>0.000879</td>\n",
       "      <td>0.0</td>\n",
       "      <td>0.001775</td>\n",
       "      <td>0.0</td>\n",
       "      <td>0.0000</td>\n",
       "      <td>0.004762</td>\n",
       "      <td>0.000000</td>\n",
       "      <td>0.000314</td>\n",
       "      <td>0.0</td>\n",
       "      <td>0.008568</td>\n",
       "      <td>0.0007</td>\n",
       "      <td>0.333333</td>\n",
       "      <td>0.166667</td>\n",
       "      <td>0.142857</td>\n",
       "      <td>0.066667</td>\n",
       "      <td>0.000000</td>\n",
       "      <td>0.00000</td>\n",
       "      <td>0.200000</td>\n",
       "      <td>0.166667</td>\n",
       "      <td>0.019608</td>\n",
       "      <td>0.000000</td>\n",
       "      <td>0.166667</td>\n",
       "      <td>0.100000</td>\n",
       "      <td>0.000000</td>\n",
       "      <td>0.00000</td>\n",
       "      <td>0.000000</td>\n",
       "      <td>0.00000</td>\n",
       "      <td>0.000000</td>\n",
       "      <td>0.0</td>\n",
       "      <td>0.0</td>\n",
       "      <td>0.0</td>\n",
       "      <td>0.0000</td>\n",
       "      <td>0.00</td>\n",
       "      <td>0.0000</td>\n",
       "      <td>0.006422</td>\n",
       "      <td>0.0</td>\n",
       "      <td>0.0</td>\n",
       "      <td>0.010476</td>\n",
       "      <td>0.898295</td>\n",
       "      <td>0.174787</td>\n",
       "      <td>0.593674</td>\n",
       "      <td>0.933013</td>\n",
       "      <td>0.974532</td>\n",
       "      <td>0.0</td>\n",
       "      <td>0.704687</td>\n",
       "      <td>0.0</td>\n",
       "      <td>0.0</td>\n",
       "      <td>0.693422</td>\n",
       "      <td>0.443307</td>\n",
       "      <td>0.541680</td>\n",
       "      <td>0.0</td>\n",
       "      <td>0.0</td>\n",
       "      <td>0.0</td>\n",
       "      <td>0.0</td>\n",
       "      <td>0.0</td>\n",
       "      <td>0.0</td>\n",
       "      <td>0.0</td>\n",
       "      <td>0.0</td>\n",
       "      <td>0</td>\n",
       "    </tr>\n",
       "    <tr>\n",
       "      <th>4</th>\n",
       "      <td>0.001558</td>\n",
       "      <td>590506.0</td>\n",
       "      <td>0.201023</td>\n",
       "      <td>0.828000</td>\n",
       "      <td>0.381679</td>\n",
       "      <td>590539.0</td>\n",
       "      <td>0.014599</td>\n",
       "      <td>590539.0</td>\n",
       "      <td>0.727273</td>\n",
       "      <td>0.836957</td>\n",
       "      <td>0.000213</td>\n",
       "      <td>0.000176</td>\n",
       "      <td>0.0</td>\n",
       "      <td>0.000444</td>\n",
       "      <td>0.0</td>\n",
       "      <td>0.0003</td>\n",
       "      <td>0.000000</td>\n",
       "      <td>0.000307</td>\n",
       "      <td>0.000314</td>\n",
       "      <td>0.0</td>\n",
       "      <td>0.000343</td>\n",
       "      <td>0.0007</td>\n",
       "      <td>0.186570</td>\n",
       "      <td>0.099861</td>\n",
       "      <td>0.116624</td>\n",
       "      <td>0.056523</td>\n",
       "      <td>0.077568</td>\n",
       "      <td>0.04516</td>\n",
       "      <td>0.115517</td>\n",
       "      <td>0.103330</td>\n",
       "      <td>0.021980</td>\n",
       "      <td>0.008909</td>\n",
       "      <td>0.138297</td>\n",
       "      <td>0.086756</td>\n",
       "      <td>0.020261</td>\n",
       "      <td>0.07804</td>\n",
       "      <td>0.067987</td>\n",
       "      <td>0.03125</td>\n",
       "      <td>0.014706</td>\n",
       "      <td>0.0</td>\n",
       "      <td>0.0</td>\n",
       "      <td>0.0</td>\n",
       "      <td>0.0625</td>\n",
       "      <td>0.05</td>\n",
       "      <td>0.0625</td>\n",
       "      <td>0.000000</td>\n",
       "      <td>0.0</td>\n",
       "      <td>0.0</td>\n",
       "      <td>0.000000</td>\n",
       "      <td>1.000000</td>\n",
       "      <td>0.070815</td>\n",
       "      <td>0.593674</td>\n",
       "      <td>0.933013</td>\n",
       "      <td>1.000000</td>\n",
       "      <td>144232.0</td>\n",
       "      <td>0.704687</td>\n",
       "      <td>144232.0</td>\n",
       "      <td>144232.0</td>\n",
       "      <td>0.511628</td>\n",
       "      <td>0.774081</td>\n",
       "      <td>0.078431</td>\n",
       "      <td>144232.0</td>\n",
       "      <td>144232.0</td>\n",
       "      <td>141698.0</td>\n",
       "      <td>144231.0</td>\n",
       "      <td>144232.0</td>\n",
       "      <td>144232.0</td>\n",
       "      <td>144226.0</td>\n",
       "      <td>144232.0</td>\n",
       "      <td>0</td>\n",
       "    </tr>\n",
       "  </tbody>\n",
       "</table>\n",
       "</div>"
      ],
      "text/plain": [
       "   TransactionAmt  ProductCD     card1     card2     card3     card4  \\\n",
       "0        0.002137   590539.0  0.743044  0.525111  0.381679  590490.0   \n",
       "1        0.000900   590539.0  0.100885  0.608000  0.381679  590539.0   \n",
       "2        0.001840   590539.0  0.210566  0.780000  0.381679  590535.0   \n",
       "3        0.001558   590539.0  0.984824  0.934000  0.381679  590539.0   \n",
       "4        0.001558   590506.0  0.201023  0.828000  0.381679  590539.0   \n",
       "\n",
       "      card5     card6     addr1     addr2        C1        C2   C4        C6  \\\n",
       "0  0.306569  590539.0  0.488636  0.836957  0.000213  0.000176  0.0  0.000444   \n",
       "1  0.014599  590539.0  0.511364  0.836957  0.000213  0.000176  0.0  0.000444   \n",
       "2  0.481752  590538.0  0.522727  0.836957  0.000213  0.000176  0.0  0.000444   \n",
       "3  0.124088  590538.0  0.854545  0.836957  0.000427  0.000879  0.0  0.001775   \n",
       "4  0.014599  590539.0  0.727273  0.836957  0.000213  0.000176  0.0  0.000444   \n",
       "\n",
       "    C7      C8        C9       C10       C11  C12       C13     C14       V12  \\\n",
       "0  0.0  0.0000  0.004762  0.000000  0.000627  0.0  0.000343  0.0007  0.333333   \n",
       "1  0.0  0.0000  0.000000  0.000000  0.000314  0.0  0.000343  0.0007  0.000000   \n",
       "2  0.0  0.0000  0.004762  0.000000  0.000314  0.0  0.000343  0.0007  0.333333   \n",
       "3  0.0  0.0000  0.004762  0.000000  0.000314  0.0  0.008568  0.0007  0.333333   \n",
       "4  0.0  0.0003  0.000000  0.000307  0.000314  0.0  0.000343  0.0007  0.186570   \n",
       "\n",
       "        V13       V19       V20       V29      V30       V53       V54  \\\n",
       "0  0.166667  0.142857  0.066667  0.000000  0.00000  0.200000  0.166667   \n",
       "1  0.000000  0.142857  0.066667  0.000000  0.00000  0.000000  0.000000   \n",
       "2  0.166667  0.142857  0.066667  0.000000  0.00000  0.200000  0.166667   \n",
       "3  0.166667  0.142857  0.066667  0.000000  0.00000  0.200000  0.166667   \n",
       "4  0.099861  0.116624  0.056523  0.077568  0.04516  0.115517  0.103330   \n",
       "\n",
       "        V56       V60       V61       V62       V64      V69       V70  \\\n",
       "0  0.019608  0.000000  0.166667  0.100000  0.000000  0.00000  0.000000   \n",
       "1  0.019608  0.000000  0.166667  0.100000  0.000000  0.00000  0.000000   \n",
       "2  0.019608  0.000000  0.166667  0.100000  0.000000  0.00000  0.000000   \n",
       "3  0.019608  0.000000  0.166667  0.100000  0.000000  0.00000  0.000000   \n",
       "4  0.021980  0.008909  0.138297  0.086756  0.020261  0.07804  0.067987   \n",
       "\n",
       "      V282      V283  V290  V291  V292    V302  V303    V304      V310  V314  \\\n",
       "0  0.03125  0.014706   0.0   0.0   0.0  0.0000  0.00  0.0000  0.000000   0.0   \n",
       "1  0.03125  0.014706   0.0   0.0   0.0  0.0000  0.00  0.0000  0.000000   0.0   \n",
       "2  0.03125  0.014706   0.0   0.0   0.0  0.0000  0.00  0.0000  0.000000   0.0   \n",
       "3  0.00000  0.000000   0.0   0.0   0.0  0.0000  0.00  0.0000  0.006422   0.0   \n",
       "4  0.03125  0.014706   0.0   0.0   0.0  0.0625  0.05  0.0625  0.000000   0.0   \n",
       "\n",
       "   V315      V317     id_01     id_02     id_05     id_06     id_11     id_12  \\\n",
       "0   0.0  0.000873  0.898295  0.174787  0.593674  0.933013  0.974532       0.0   \n",
       "1   0.0  0.000000  0.898295  0.174787  0.593674  0.933013  0.974532       0.0   \n",
       "2   0.0  0.000000  0.898295  0.174787  0.593674  0.933013  0.974532       0.0   \n",
       "3   0.0  0.010476  0.898295  0.174787  0.593674  0.933013  0.974532       0.0   \n",
       "4   0.0  0.000000  1.000000  0.070815  0.593674  0.933013  1.000000  144232.0   \n",
       "\n",
       "      id_13     id_15     id_16     id_17     id_19     id_20     id_28  \\\n",
       "0  0.704687       0.0       0.0  0.693422  0.443307  0.541680       0.0   \n",
       "1  0.704687       0.0       0.0  0.693422  0.443307  0.541680       0.0   \n",
       "2  0.704687       0.0       0.0  0.693422  0.443307  0.541680       0.0   \n",
       "3  0.704687       0.0       0.0  0.693422  0.443307  0.541680       0.0   \n",
       "4  0.704687  144232.0  144232.0  0.511628  0.774081  0.078431  144232.0   \n",
       "\n",
       "      id_29     id_31     id_35     id_36     id_37     id_38  DeviceType  \\\n",
       "0       0.0       0.0       0.0       0.0       0.0       0.0         0.0   \n",
       "1       0.0       0.0       0.0       0.0       0.0       0.0         0.0   \n",
       "2       0.0       0.0       0.0       0.0       0.0       0.0         0.0   \n",
       "3       0.0       0.0       0.0       0.0       0.0       0.0         0.0   \n",
       "4  144232.0  141698.0  144231.0  144232.0  144232.0  144226.0    144232.0   \n",
       "\n",
       "   isFraud  \n",
       "0        0  \n",
       "1        0  \n",
       "2        0  \n",
       "3        0  \n",
       "4        0  "
      ]
     },
     "execution_count": 65,
     "metadata": {},
     "output_type": "execute_result"
    }
   ],
   "source": [
    "f = open('filePickleEstruct.pkl','rb')\n",
    "df = pickle.load(f)\n",
    "f.close\n",
    "df.head()"
   ]
  },
  {
   "cell_type": "code",
   "execution_count": 66,
   "id": "37f09100",
   "metadata": {},
   "outputs": [
    {
     "name": "stdout",
     "output_type": "stream",
     "text": [
      "Número de transacciones no fraudulentas 569877\n",
      "Número de transacciones fraudulentas 20663\n"
     ]
    }
   ],
   "source": [
    "print('Número de transacciones no fraudulentas '+str(len(df[df['isFraud']==0])))\n",
    "print('Número de transacciones fraudulentas '+str(len(df[df['isFraud']==1])))"
   ]
  },
  {
   "cell_type": "code",
   "execution_count": 67,
   "id": "2af43354",
   "metadata": {},
   "outputs": [],
   "source": [
    "dataX=df.drop('isFraud',axis=1)\n",
    "tarjetY=df[['isFraud']]"
   ]
  },
  {
   "cell_type": "markdown",
   "id": "f3781d41",
   "metadata": {},
   "source": [
    "### Dividir en entrenamiento/validación y test"
   ]
  },
  {
   "cell_type": "code",
   "execution_count": 68,
   "id": "c383b691",
   "metadata": {},
   "outputs": [],
   "source": [
    "X_train, X_test, y_train, y_test \\\n",
    "= train_test_split(dataX, tarjetY, stratify=tarjetY, test_size=0.1, random_state=0)"
   ]
  },
  {
   "cell_type": "markdown",
   "id": "137f4440",
   "metadata": {},
   "source": [
    "### Funciones para obtener mejores parámetros y validar los modelos"
   ]
  },
  {
   "cell_type": "code",
   "execution_count": 69,
   "id": "fc46ecfd",
   "metadata": {},
   "outputs": [],
   "source": [
    "def validarModeloCrossValidation(modelo, X_train, y_train, parametros):#Grid-search-cv #devolver los mejores parámetros en base a métrica AUC\n",
    "         \n",
    "    cv = KFold(n_splits=5)\n",
    "    #ros = RandomOverSampler(sampling_strategy='minority')\n",
    "    if estrategia=='SMOTE':\n",
    "        ros = SMOTE(sampling_strategy='minority',random_state=4)\n",
    "    elif estrategia=='RandomOverSampler':\n",
    "        ros = RandomOverSampler(sampling_strategy='minority',random_state=4)\n",
    "    scores = []  \n",
    "    for train_fold_index, val_fold_index in cv.split(X_train, y_train):       \n",
    "        X_train_fold, y_train_fold = X_train.iloc[train_fold_index], y_train.iloc[train_fold_index]       \n",
    "        X_val_fold, y_val_fold = X_train.iloc[val_fold_index], y_train.iloc[val_fold_index]\n",
    "\n",
    "        # Upsample sólo sobre los datos de entrenamiento\n",
    "        X_train_fold_upsample, y_train_fold_upsample = ros.fit_resample(X_train_fold,\n",
    "                                                                           y_train_fold)\n",
    "        # Entrenar el modelo        \n",
    "        model_obj = modelo(**parametros).fit(X_train_fold_upsample, y_train_fold_upsample)\n",
    "        \n",
    "        # Validar el modelo sobre el conjunto de datos de validación con métrica auc\n",
    "        y_pred = model_obj.predict(X_val_fold) \n",
    "        false_positive_rate, true_positive_rate, thresholds  = metrics.roc_curve(y_val_fold, y_pred)\n",
    "        score = auc(false_positive_rate, true_positive_rate)\n",
    "        scores.append(score)\n",
    "    return np.array(scores)\n",
    "    \n",
    "      \n",
    "def obtenerMejoresParametrosDT(dataX,tarjetY,params):\n",
    "    mejoresParametros = []\n",
    "    for criterion in params['criterion']:\n",
    "        for max_depth in params['max_depth']:\n",
    "            parametros = {\n",
    "                'criterion': criterion,\n",
    "                'max_depth': max_depth                \n",
    "            }\n",
    "            parametros['auc'] = validarModeloCrossValidation(DecisionTreeClassifier, dataX, tarjetY, parametros).mean()\n",
    "            print(\"parámetros:\")\n",
    "            print(parametros)\n",
    "            mejoresParametros.append(parametros)\n",
    "\n",
    "    #Mejores parametros\n",
    "    return sorted(mejoresParametros, key=lambda x: x['auc'], reverse=True)[0]\n",
    "\n",
    "def obtenerMejoresParametrosCB(dataX,tarjetY,params):\n",
    "    mejoresParametros = []\n",
    "    for learning_rate in params['learning_rate']:\n",
    "        for depth in params['depth']:\n",
    "            for l2_leaf_reg in params['l2_leaf_reg']:\n",
    "                parametros = {\n",
    "                    'learning_rate': learning_rate,\n",
    "                    'depth': depth,\n",
    "                    'l2_leaf_reg': l2_leaf_reg,\n",
    "                    'logging_level':'Silent'\n",
    "                }\n",
    "                parametros['auc'] = validarModeloCrossValidation(CatBoostClassifier, dataX, tarjetY, parametros).mean()\n",
    "                print(\"parámetros:\")\n",
    "                print(parametros)\n",
    "                mejoresParametros.append(parametros)\n",
    "\n",
    "    #Mejores parametros\n",
    "    return sorted(mejoresParametros, key=lambda x: x['auc'], reverse=True)[0]\n",
    "\n",
    "\n",
    "def obtenerMejoresParametrosRF(dataX,tarjetY,params):\n",
    "    mejoresParametros = []\n",
    "    for bootstrap in params['bootstrap']:\n",
    "        for min_samples_leaf in params['min_samples_leaf']:\n",
    "            for min_samples_split in params['min_samples_split']:\n",
    "                parametros = {\n",
    "                    'bootstrap': bootstrap,\n",
    "                    'min_samples_leaf': min_samples_leaf,\n",
    "                    'min_samples_split': min_samples_split                    \n",
    "                }\n",
    "                parametros['auc'] = validarModeloCrossValidation(RandomForestClassifier, dataX, tarjetY, parametros).mean()\n",
    "                print(\"parámetros:\")\n",
    "                print(parametros)\n",
    "                mejoresParametros.append(parametros)\n",
    "\n",
    "    #Mejores parametros\n",
    "    return sorted(mejoresParametros, key=lambda x: x['auc'], reverse=True)[0]\n",
    "\n",
    "\n",
    "def obtenerMejoresParametrosXG(dataX,tarjetY,params):\n",
    "    mejoresParametros = []\n",
    "    for max_depth in params['max_depth']:\n",
    "        for min_child_weight in params['min_child_weight']:\n",
    "            for learning_rate in params['learning_rate']:\n",
    "                parametros = {\n",
    "                    'max_depth': max_depth,\n",
    "                    'min_child_weight': min_child_weight,\n",
    "                    'learning_rate': learning_rate                    \n",
    "                }\n",
    "                parametros['auc'] = validarModeloCrossValidation(XGBClassifier, dataX, tarjetY, parametros).mean()\n",
    "                print(\"parámetros:\")\n",
    "                print(parametros)\n",
    "                mejoresParametros.append(parametros)\n",
    "\n",
    "    #Mejores parametros\n",
    "    return sorted(mejoresParametros, key=lambda x: x['auc'], reverse=True)[0]\n",
    "\n",
    "\n",
    "  \n",
    "def validarModeloTest(dataX2,tarjetY2,modelo):\n",
    "    metricasClas = {\n",
    "      'AUC': metrics.roc_auc_score,  \n",
    "      'ACC':    metrics.accuracy_score,\n",
    "      'PREC':   lambda y_true, y_pred:\n",
    "                metrics.precision_score(y_true, y_pred,\n",
    "                  average='micro'), \n",
    "      'RECALL': lambda y_true, y_pred:\n",
    "                metrics.recall_score(y_true, y_pred,\n",
    "                  average='micro'),\n",
    "      'F1':     lambda y_true, y_pred:\n",
    "                metrics.f1_score(y_true, y_pred, average='micro')}\n",
    "     \n",
    "    y_pred = modelo.predict(dataX2)\n",
    "\n",
    "    print(\"Matriz de confusión:\\n%s\" % (metrics.confusion_matrix(tarjetY2, y_pred)))\n",
    "    false_positive_rate, true_positive_rate, thresholds  = metrics.roc_curve(tarjetY2, y_pred)\n",
    "    roc_auc = auc(false_positive_rate, true_positive_rate)\n",
    "\n",
    "    plt.figure(figsize=(5,5))\n",
    "    plt.title('Modelo')\n",
    "    plt.plot(false_positive_rate,true_positive_rate, color='red',label = 'AUC = %0.2f' % roc_auc)\n",
    "    plt.legend(loc = 'lower right')\n",
    "    plt.plot([0, 1], [0, 1],linestyle='--')\n",
    "    plt.axis('tight')\n",
    "    plt.ylabel('True Positive Rate')\n",
    "    plt.xlabel('False Positive Rate')\n",
    "\n",
    "    ACC = metricasClas['ACC'](tarjetY2, y_pred)\n",
    "    PREC = metricasClas['PREC'](tarjetY2, y_pred)\n",
    "    RECALL = metricasClas['RECALL'](tarjetY2, y_pred)\n",
    "    F1 = metricasClas['F1'](tarjetY2, y_pred)\n",
    "\n",
    "    print(\"%s\\n AUC: %.3f ACC: %.3f  PREC: %.3f  RECALL: %.3f  F1: %.3f\" %\n",
    "                      ('MÉTRICAS -->',roc_auc, ACC,PREC,RECALL,F1))   \n",
    "\n",
    "    matriz_confusion = confusion_matrix(tarjetY2, y_pred)\n",
    "\n",
    "    skplt.metrics.plot_confusion_matrix(tarjetY2, y_pred, normalize=True, title='Matriz de confusión')\n",
    "    skplt.metrics.plot_confusion_matrix(tarjetY2, y_pred, title='Matriz de confusión')"
   ]
  },
  {
   "cell_type": "markdown",
   "id": "8bc39b8d",
   "metadata": {},
   "source": [
    "### Obtener mejores parámetros"
   ]
  },
  {
   "cell_type": "markdown",
   "id": "d35b7fec",
   "metadata": {},
   "source": [
    "#### DecissionTee"
   ]
  },
  {
   "cell_type": "code",
   "execution_count": 27,
   "id": "58a57712",
   "metadata": {},
   "outputs": [
    {
     "name": "stdout",
     "output_type": "stream",
     "text": [
      "parámetros:\n",
      "{'criterion': 'entropy', 'max_depth': 20, 'auc': 0.7696950437772352}\n",
      "parámetros:\n",
      "{'criterion': 'entropy', 'max_depth': 50, 'auc': 0.7435302440146839}\n",
      "parámetros:\n",
      "{'criterion': 'gini', 'max_depth': 20, 'auc': 0.7825859096884733}\n",
      "parámetros:\n",
      "{'criterion': 'gini', 'max_depth': 50, 'auc': 0.7379659084129746}\n",
      "Mejores Parametros para DecissionTree\n",
      "{'criterion': 'gini', 'max_depth': 20, 'auc': 0.7825859096884733}\n"
     ]
    }
   ],
   "source": [
    "params={'criterion': ['entropy','gini'], 'max_depth': [20,50]}\n",
    "mejoresParametrosDT=obtenerMejoresParametrosDT(X_train,y_train,params)\n",
    "print(\"Mejores Parametros para DecissionTree\")\n",
    "print(mejoresParametrosDT)"
   ]
  },
  {
   "cell_type": "markdown",
   "id": "0ef5a505",
   "metadata": {},
   "source": [
    "#### RandomForest"
   ]
  },
  {
   "cell_type": "code",
   "execution_count": 96,
   "id": "9238378a",
   "metadata": {
    "scrolled": true
   },
   "outputs": [
    {
     "name": "stderr",
     "output_type": "stream",
     "text": [
      "C:\\Users\\NitroPC\\AppData\\Local\\Temp\\ipykernel_11284\\461515412.py:15: DataConversionWarning: A column-vector y was passed when a 1d array was expected. Please change the shape of y to (n_samples,), for example using ravel().\n",
      "  model_obj = modelo(**parametros).fit(X_train_fold_upsample, y_train_fold_upsample)\n",
      "C:\\Users\\NitroPC\\AppData\\Local\\Temp\\ipykernel_11284\\461515412.py:15: DataConversionWarning: A column-vector y was passed when a 1d array was expected. Please change the shape of y to (n_samples,), for example using ravel().\n",
      "  model_obj = modelo(**parametros).fit(X_train_fold_upsample, y_train_fold_upsample)\n",
      "C:\\Users\\NitroPC\\AppData\\Local\\Temp\\ipykernel_11284\\461515412.py:15: DataConversionWarning: A column-vector y was passed when a 1d array was expected. Please change the shape of y to (n_samples,), for example using ravel().\n",
      "  model_obj = modelo(**parametros).fit(X_train_fold_upsample, y_train_fold_upsample)\n",
      "C:\\Users\\NitroPC\\AppData\\Local\\Temp\\ipykernel_11284\\461515412.py:15: DataConversionWarning: A column-vector y was passed when a 1d array was expected. Please change the shape of y to (n_samples,), for example using ravel().\n",
      "  model_obj = modelo(**parametros).fit(X_train_fold_upsample, y_train_fold_upsample)\n",
      "C:\\Users\\NitroPC\\AppData\\Local\\Temp\\ipykernel_11284\\461515412.py:15: DataConversionWarning: A column-vector y was passed when a 1d array was expected. Please change the shape of y to (n_samples,), for example using ravel().\n",
      "  model_obj = modelo(**parametros).fit(X_train_fold_upsample, y_train_fold_upsample)\n"
     ]
    },
    {
     "name": "stdout",
     "output_type": "stream",
     "text": [
      "parámetros:\n",
      "{'bootstrap': True, 'min_samples_leaf': 1, 'min_samples_split': 5, 'auc': 0.7946342238891588}\n"
     ]
    },
    {
     "name": "stderr",
     "output_type": "stream",
     "text": [
      "C:\\Users\\NitroPC\\AppData\\Local\\Temp\\ipykernel_11284\\461515412.py:15: DataConversionWarning: A column-vector y was passed when a 1d array was expected. Please change the shape of y to (n_samples,), for example using ravel().\n",
      "  model_obj = modelo(**parametros).fit(X_train_fold_upsample, y_train_fold_upsample)\n",
      "C:\\Users\\NitroPC\\AppData\\Local\\Temp\\ipykernel_11284\\461515412.py:15: DataConversionWarning: A column-vector y was passed when a 1d array was expected. Please change the shape of y to (n_samples,), for example using ravel().\n",
      "  model_obj = modelo(**parametros).fit(X_train_fold_upsample, y_train_fold_upsample)\n",
      "C:\\Users\\NitroPC\\AppData\\Local\\Temp\\ipykernel_11284\\461515412.py:15: DataConversionWarning: A column-vector y was passed when a 1d array was expected. Please change the shape of y to (n_samples,), for example using ravel().\n",
      "  model_obj = modelo(**parametros).fit(X_train_fold_upsample, y_train_fold_upsample)\n",
      "C:\\Users\\NitroPC\\AppData\\Local\\Temp\\ipykernel_11284\\461515412.py:15: DataConversionWarning: A column-vector y was passed when a 1d array was expected. Please change the shape of y to (n_samples,), for example using ravel().\n",
      "  model_obj = modelo(**parametros).fit(X_train_fold_upsample, y_train_fold_upsample)\n",
      "C:\\Users\\NitroPC\\AppData\\Local\\Temp\\ipykernel_11284\\461515412.py:15: DataConversionWarning: A column-vector y was passed when a 1d array was expected. Please change the shape of y to (n_samples,), for example using ravel().\n",
      "  model_obj = modelo(**parametros).fit(X_train_fold_upsample, y_train_fold_upsample)\n"
     ]
    },
    {
     "name": "stdout",
     "output_type": "stream",
     "text": [
      "parámetros:\n",
      "{'bootstrap': True, 'min_samples_leaf': 1, 'min_samples_split': 10, 'auc': 0.794730038833557}\n"
     ]
    },
    {
     "name": "stderr",
     "output_type": "stream",
     "text": [
      "C:\\Users\\NitroPC\\AppData\\Local\\Temp\\ipykernel_11284\\461515412.py:15: DataConversionWarning: A column-vector y was passed when a 1d array was expected. Please change the shape of y to (n_samples,), for example using ravel().\n",
      "  model_obj = modelo(**parametros).fit(X_train_fold_upsample, y_train_fold_upsample)\n",
      "C:\\Users\\NitroPC\\AppData\\Local\\Temp\\ipykernel_11284\\461515412.py:15: DataConversionWarning: A column-vector y was passed when a 1d array was expected. Please change the shape of y to (n_samples,), for example using ravel().\n",
      "  model_obj = modelo(**parametros).fit(X_train_fold_upsample, y_train_fold_upsample)\n",
      "C:\\Users\\NitroPC\\AppData\\Local\\Temp\\ipykernel_11284\\461515412.py:15: DataConversionWarning: A column-vector y was passed when a 1d array was expected. Please change the shape of y to (n_samples,), for example using ravel().\n",
      "  model_obj = modelo(**parametros).fit(X_train_fold_upsample, y_train_fold_upsample)\n",
      "C:\\Users\\NitroPC\\AppData\\Local\\Temp\\ipykernel_11284\\461515412.py:15: DataConversionWarning: A column-vector y was passed when a 1d array was expected. Please change the shape of y to (n_samples,), for example using ravel().\n",
      "  model_obj = modelo(**parametros).fit(X_train_fold_upsample, y_train_fold_upsample)\n",
      "C:\\Users\\NitroPC\\AppData\\Local\\Temp\\ipykernel_11284\\461515412.py:15: DataConversionWarning: A column-vector y was passed when a 1d array was expected. Please change the shape of y to (n_samples,), for example using ravel().\n",
      "  model_obj = modelo(**parametros).fit(X_train_fold_upsample, y_train_fold_upsample)\n"
     ]
    },
    {
     "name": "stdout",
     "output_type": "stream",
     "text": [
      "parámetros:\n",
      "{'bootstrap': True, 'min_samples_leaf': 4, 'min_samples_split': 5, 'auc': 0.8357917559535}\n"
     ]
    },
    {
     "name": "stderr",
     "output_type": "stream",
     "text": [
      "C:\\Users\\NitroPC\\AppData\\Local\\Temp\\ipykernel_11284\\461515412.py:15: DataConversionWarning: A column-vector y was passed when a 1d array was expected. Please change the shape of y to (n_samples,), for example using ravel().\n",
      "  model_obj = modelo(**parametros).fit(X_train_fold_upsample, y_train_fold_upsample)\n",
      "C:\\Users\\NitroPC\\AppData\\Local\\Temp\\ipykernel_11284\\461515412.py:15: DataConversionWarning: A column-vector y was passed when a 1d array was expected. Please change the shape of y to (n_samples,), for example using ravel().\n",
      "  model_obj = modelo(**parametros).fit(X_train_fold_upsample, y_train_fold_upsample)\n",
      "C:\\Users\\NitroPC\\AppData\\Local\\Temp\\ipykernel_11284\\461515412.py:15: DataConversionWarning: A column-vector y was passed when a 1d array was expected. Please change the shape of y to (n_samples,), for example using ravel().\n",
      "  model_obj = modelo(**parametros).fit(X_train_fold_upsample, y_train_fold_upsample)\n",
      "C:\\Users\\NitroPC\\AppData\\Local\\Temp\\ipykernel_11284\\461515412.py:15: DataConversionWarning: A column-vector y was passed when a 1d array was expected. Please change the shape of y to (n_samples,), for example using ravel().\n",
      "  model_obj = modelo(**parametros).fit(X_train_fold_upsample, y_train_fold_upsample)\n",
      "C:\\Users\\NitroPC\\AppData\\Local\\Temp\\ipykernel_11284\\461515412.py:15: DataConversionWarning: A column-vector y was passed when a 1d array was expected. Please change the shape of y to (n_samples,), for example using ravel().\n",
      "  model_obj = modelo(**parametros).fit(X_train_fold_upsample, y_train_fold_upsample)\n"
     ]
    },
    {
     "name": "stdout",
     "output_type": "stream",
     "text": [
      "parámetros:\n",
      "{'bootstrap': True, 'min_samples_leaf': 4, 'min_samples_split': 10, 'auc': 0.8354323418068572}\n"
     ]
    },
    {
     "name": "stderr",
     "output_type": "stream",
     "text": [
      "C:\\Users\\NitroPC\\AppData\\Local\\Temp\\ipykernel_11284\\461515412.py:15: DataConversionWarning: A column-vector y was passed when a 1d array was expected. Please change the shape of y to (n_samples,), for example using ravel().\n",
      "  model_obj = modelo(**parametros).fit(X_train_fold_upsample, y_train_fold_upsample)\n",
      "C:\\Users\\NitroPC\\AppData\\Local\\Temp\\ipykernel_11284\\461515412.py:15: DataConversionWarning: A column-vector y was passed when a 1d array was expected. Please change the shape of y to (n_samples,), for example using ravel().\n",
      "  model_obj = modelo(**parametros).fit(X_train_fold_upsample, y_train_fold_upsample)\n",
      "C:\\Users\\NitroPC\\AppData\\Local\\Temp\\ipykernel_11284\\461515412.py:15: DataConversionWarning: A column-vector y was passed when a 1d array was expected. Please change the shape of y to (n_samples,), for example using ravel().\n",
      "  model_obj = modelo(**parametros).fit(X_train_fold_upsample, y_train_fold_upsample)\n",
      "C:\\Users\\NitroPC\\AppData\\Local\\Temp\\ipykernel_11284\\461515412.py:15: DataConversionWarning: A column-vector y was passed when a 1d array was expected. Please change the shape of y to (n_samples,), for example using ravel().\n",
      "  model_obj = modelo(**parametros).fit(X_train_fold_upsample, y_train_fold_upsample)\n",
      "C:\\Users\\NitroPC\\AppData\\Local\\Temp\\ipykernel_11284\\461515412.py:15: DataConversionWarning: A column-vector y was passed when a 1d array was expected. Please change the shape of y to (n_samples,), for example using ravel().\n",
      "  model_obj = modelo(**parametros).fit(X_train_fold_upsample, y_train_fold_upsample)\n"
     ]
    },
    {
     "name": "stdout",
     "output_type": "stream",
     "text": [
      "parámetros:\n",
      "{'bootstrap': False, 'min_samples_leaf': 1, 'min_samples_split': 5, 'auc': 0.7799080718297657}\n"
     ]
    },
    {
     "name": "stderr",
     "output_type": "stream",
     "text": [
      "C:\\Users\\NitroPC\\AppData\\Local\\Temp\\ipykernel_11284\\461515412.py:15: DataConversionWarning: A column-vector y was passed when a 1d array was expected. Please change the shape of y to (n_samples,), for example using ravel().\n",
      "  model_obj = modelo(**parametros).fit(X_train_fold_upsample, y_train_fold_upsample)\n",
      "C:\\Users\\NitroPC\\AppData\\Local\\Temp\\ipykernel_11284\\461515412.py:15: DataConversionWarning: A column-vector y was passed when a 1d array was expected. Please change the shape of y to (n_samples,), for example using ravel().\n",
      "  model_obj = modelo(**parametros).fit(X_train_fold_upsample, y_train_fold_upsample)\n",
      "C:\\Users\\NitroPC\\AppData\\Local\\Temp\\ipykernel_11284\\461515412.py:15: DataConversionWarning: A column-vector y was passed when a 1d array was expected. Please change the shape of y to (n_samples,), for example using ravel().\n",
      "  model_obj = modelo(**parametros).fit(X_train_fold_upsample, y_train_fold_upsample)\n",
      "C:\\Users\\NitroPC\\AppData\\Local\\Temp\\ipykernel_11284\\461515412.py:15: DataConversionWarning: A column-vector y was passed when a 1d array was expected. Please change the shape of y to (n_samples,), for example using ravel().\n",
      "  model_obj = modelo(**parametros).fit(X_train_fold_upsample, y_train_fold_upsample)\n",
      "C:\\Users\\NitroPC\\AppData\\Local\\Temp\\ipykernel_11284\\461515412.py:15: DataConversionWarning: A column-vector y was passed when a 1d array was expected. Please change the shape of y to (n_samples,), for example using ravel().\n",
      "  model_obj = modelo(**parametros).fit(X_train_fold_upsample, y_train_fold_upsample)\n"
     ]
    },
    {
     "name": "stdout",
     "output_type": "stream",
     "text": [
      "parámetros:\n",
      "{'bootstrap': False, 'min_samples_leaf': 1, 'min_samples_split': 10, 'auc': 0.7798447252629327}\n"
     ]
    },
    {
     "name": "stderr",
     "output_type": "stream",
     "text": [
      "C:\\Users\\NitroPC\\AppData\\Local\\Temp\\ipykernel_11284\\461515412.py:15: DataConversionWarning: A column-vector y was passed when a 1d array was expected. Please change the shape of y to (n_samples,), for example using ravel().\n",
      "  model_obj = modelo(**parametros).fit(X_train_fold_upsample, y_train_fold_upsample)\n",
      "C:\\Users\\NitroPC\\AppData\\Local\\Temp\\ipykernel_11284\\461515412.py:15: DataConversionWarning: A column-vector y was passed when a 1d array was expected. Please change the shape of y to (n_samples,), for example using ravel().\n",
      "  model_obj = modelo(**parametros).fit(X_train_fold_upsample, y_train_fold_upsample)\n",
      "C:\\Users\\NitroPC\\AppData\\Local\\Temp\\ipykernel_11284\\461515412.py:15: DataConversionWarning: A column-vector y was passed when a 1d array was expected. Please change the shape of y to (n_samples,), for example using ravel().\n",
      "  model_obj = modelo(**parametros).fit(X_train_fold_upsample, y_train_fold_upsample)\n",
      "C:\\Users\\NitroPC\\AppData\\Local\\Temp\\ipykernel_11284\\461515412.py:15: DataConversionWarning: A column-vector y was passed when a 1d array was expected. Please change the shape of y to (n_samples,), for example using ravel().\n",
      "  model_obj = modelo(**parametros).fit(X_train_fold_upsample, y_train_fold_upsample)\n",
      "C:\\Users\\NitroPC\\AppData\\Local\\Temp\\ipykernel_11284\\461515412.py:15: DataConversionWarning: A column-vector y was passed when a 1d array was expected. Please change the shape of y to (n_samples,), for example using ravel().\n",
      "  model_obj = modelo(**parametros).fit(X_train_fold_upsample, y_train_fold_upsample)\n"
     ]
    },
    {
     "name": "stdout",
     "output_type": "stream",
     "text": [
      "parámetros:\n",
      "{'bootstrap': False, 'min_samples_leaf': 4, 'min_samples_split': 5, 'auc': 0.8228259094660361}\n"
     ]
    },
    {
     "name": "stderr",
     "output_type": "stream",
     "text": [
      "C:\\Users\\NitroPC\\AppData\\Local\\Temp\\ipykernel_11284\\461515412.py:15: DataConversionWarning: A column-vector y was passed when a 1d array was expected. Please change the shape of y to (n_samples,), for example using ravel().\n",
      "  model_obj = modelo(**parametros).fit(X_train_fold_upsample, y_train_fold_upsample)\n",
      "C:\\Users\\NitroPC\\AppData\\Local\\Temp\\ipykernel_11284\\461515412.py:15: DataConversionWarning: A column-vector y was passed when a 1d array was expected. Please change the shape of y to (n_samples,), for example using ravel().\n",
      "  model_obj = modelo(**parametros).fit(X_train_fold_upsample, y_train_fold_upsample)\n",
      "C:\\Users\\NitroPC\\AppData\\Local\\Temp\\ipykernel_11284\\461515412.py:15: DataConversionWarning: A column-vector y was passed when a 1d array was expected. Please change the shape of y to (n_samples,), for example using ravel().\n",
      "  model_obj = modelo(**parametros).fit(X_train_fold_upsample, y_train_fold_upsample)\n",
      "C:\\Users\\NitroPC\\AppData\\Local\\Temp\\ipykernel_11284\\461515412.py:15: DataConversionWarning: A column-vector y was passed when a 1d array was expected. Please change the shape of y to (n_samples,), for example using ravel().\n",
      "  model_obj = modelo(**parametros).fit(X_train_fold_upsample, y_train_fold_upsample)\n",
      "C:\\Users\\NitroPC\\AppData\\Local\\Temp\\ipykernel_11284\\461515412.py:15: DataConversionWarning: A column-vector y was passed when a 1d array was expected. Please change the shape of y to (n_samples,), for example using ravel().\n",
      "  model_obj = modelo(**parametros).fit(X_train_fold_upsample, y_train_fold_upsample)\n"
     ]
    },
    {
     "name": "stdout",
     "output_type": "stream",
     "text": [
      "parámetros:\n",
      "{'bootstrap': False, 'min_samples_leaf': 4, 'min_samples_split': 10, 'auc': 0.8224258404448669}\n",
      "Mejores Parametros para RandomForest\n",
      "{'bootstrap': True, 'min_samples_leaf': 4, 'min_samples_split': 5, 'auc': 0.8357917559535}\n"
     ]
    }
   ],
   "source": [
    "params={'bootstrap': [True, False], 'min_samples_leaf': [1, 4],'min_samples_split': [5, 10]}\n",
    "mejoresParametrosRF=obtenerMejoresParametrosRF(X_train,y_train,params)\n",
    "print(\"Mejores Parametros para RandomForest\")\n",
    "print(mejoresParametrosRF)"
   ]
  },
  {
   "cell_type": "markdown",
   "id": "fee56562",
   "metadata": {},
   "source": [
    "#### CatBoost"
   ]
  },
  {
   "cell_type": "code",
   "execution_count": 79,
   "id": "cf9b44a6",
   "metadata": {
    "scrolled": true
   },
   "outputs": [
    {
     "name": "stdout",
     "output_type": "stream",
     "text": [
      "parámetros:\n",
      "{'learning_rate': 0.01, 'depth': 4, 'l2_leaf_reg': 1, 'logging_level': 'Silent', 'auc': 0.7923047938602151}\n",
      "parámetros:\n",
      "{'learning_rate': 0.01, 'depth': 4, 'l2_leaf_reg': 5, 'logging_level': 'Silent', 'auc': 0.7927196381051231}\n",
      "parámetros:\n",
      "{'learning_rate': 0.01, 'depth': 4, 'l2_leaf_reg': 9, 'logging_level': 'Silent', 'auc': 0.7921461996907686}\n",
      "parámetros:\n",
      "{'learning_rate': 0.01, 'depth': 10, 'l2_leaf_reg': 1, 'logging_level': 'Silent', 'auc': 0.8536871017418257}\n",
      "parámetros:\n",
      "{'learning_rate': 0.01, 'depth': 10, 'l2_leaf_reg': 5, 'logging_level': 'Silent', 'auc': 0.8504457774479357}\n",
      "parámetros:\n",
      "{'learning_rate': 0.01, 'depth': 10, 'l2_leaf_reg': 9, 'logging_level': 'Silent', 'auc': 0.8485912911168407}\n",
      "parámetros:\n",
      "{'learning_rate': 0.1, 'depth': 4, 'l2_leaf_reg': 1, 'logging_level': 'Silent', 'auc': 0.8381945937495011}\n",
      "parámetros:\n",
      "{'learning_rate': 0.1, 'depth': 4, 'l2_leaf_reg': 5, 'logging_level': 'Silent', 'auc': 0.8382566596890889}\n",
      "parámetros:\n",
      "{'learning_rate': 0.1, 'depth': 4, 'l2_leaf_reg': 9, 'logging_level': 'Silent', 'auc': 0.8377046796194099}\n",
      "parámetros:\n",
      "{'learning_rate': 0.1, 'depth': 10, 'l2_leaf_reg': 1, 'logging_level': 'Silent', 'auc': 0.8720169998955457}\n",
      "parámetros:\n",
      "{'learning_rate': 0.1, 'depth': 10, 'l2_leaf_reg': 5, 'logging_level': 'Silent', 'auc': 0.8786504467879421}\n",
      "parámetros:\n",
      "{'learning_rate': 0.1, 'depth': 10, 'l2_leaf_reg': 9, 'logging_level': 'Silent', 'auc': 0.8791873478414072}\n",
      "Mejores Parametros para CatBoost\n",
      "{'learning_rate': 0.1, 'depth': 10, 'l2_leaf_reg': 9, 'logging_level': 'Silent', 'auc': 0.8791873478414072}\n"
     ]
    }
   ],
   "source": [
    "paramsCB={'learning_rate': [0.01, 0.1],\n",
    "        'depth': [4, 10],\n",
    "        'l2_leaf_reg': [5, 15]\n",
    "        }\n",
    "mejoresParametrosCB=obtenerMejoresParametrosCB(X_train,y_train,paramsCB)\n",
    "print(\"Mejores Parametros para CatBoost\")\n",
    "print(mejoresParametrosCB)"
   ]
  },
  {
   "cell_type": "markdown",
   "id": "7d78facf",
   "metadata": {},
   "source": [
    "#### XGBoost"
   ]
  },
  {
   "cell_type": "code",
   "execution_count": 153,
   "id": "b21a7650",
   "metadata": {},
   "outputs": [
    {
     "name": "stdout",
     "output_type": "stream",
     "text": [
      "parámetros:\n",
      "{'max_depth': 5, 'min_child_weight': 1, 'learning_rate': 0.01, 'auc': 0.7889784512309623}\n",
      "parámetros:\n",
      "{'max_depth': 5, 'min_child_weight': 1, 'learning_rate': 0.1, 'auc': 0.8302825263828595}\n",
      "parámetros:\n",
      "{'max_depth': 5, 'min_child_weight': 5, 'learning_rate': 0.01, 'auc': 0.7877318926353671}\n",
      "parámetros:\n",
      "{'max_depth': 5, 'min_child_weight': 5, 'learning_rate': 0.1, 'auc': 0.82946473797524}\n",
      "parámetros:\n",
      "{'max_depth': 12, 'min_child_weight': 1, 'learning_rate': 0.01, 'auc': 0.8317778148488042}\n",
      "parámetros:\n",
      "{'max_depth': 12, 'min_child_weight': 1, 'learning_rate': 0.1, 'auc': 0.8627554400020143}\n",
      "parámetros:\n",
      "{'max_depth': 12, 'min_child_weight': 5, 'learning_rate': 0.01, 'auc': 0.834084701099331}\n",
      "parámetros:\n",
      "{'max_depth': 12, 'min_child_weight': 5, 'learning_rate': 0.1, 'auc': 0.8666629585247968}\n",
      "Mejores Parametros para XGBoost\n",
      "{'max_depth': 12, 'min_child_weight': 5, 'learning_rate': 0.1, 'auc': 0.8666629585247968}\n"
     ]
    }
   ],
   "source": [
    "paramsXG={\"max_depth\":[5, 12],#default 1\n",
    "        \"min_child_weight\":[1,5],#default 1\n",
    "        \"learning_rate\":[0.01, 0.1]}#default 0.1\n",
    "mejoresParametrosXG=obtenerMejoresParametrosXG(X_train,y_train,paramsXG)\n",
    "print(\"Mejores Parametros para XGBoost\")\n",
    "print(mejoresParametrosXG)"
   ]
  },
  {
   "cell_type": "markdown",
   "id": "e2fd3d92",
   "metadata": {},
   "source": [
    "### Entrenar y validar los modelos frente al conjunto de datos de test con los parámetros obtenidos en GridSearchCV"
   ]
  },
  {
   "cell_type": "code",
   "execution_count": 70,
   "id": "1f6b5f4d",
   "metadata": {},
   "outputs": [],
   "source": [
    "if underSample==True:\n",
    "    #Combinar con underSampler\n",
    "    ros = RandomOverSampler(sampling_strategy=0.1,random_state=42)#Se aumenta sólo el conjunto de entrenamiento\n",
    "    X_trainPre, y_trainPre = ros.fit_resample(X_train, y_train)\n",
    "    under = RandomUnderSampler(sampling_strategy=0.5,random_state=42)\n",
    "    X_train2, y_train2 = under.fit_resample(X_trainPre, y_trainPre)\n",
    "else:\n",
    "    #ros = RandomOverSampler(sampling_strategy='minority',random_state=4)#Se aumenta sólo el conjunto de entrenamiento\n",
    "    if estrategia=='SMOTE':\n",
    "        ros = SMOTE(sampling_strategy='minority',random_state=4)\n",
    "    elif estrategia=='RandomOverSampler':\n",
    "        ros = RandomOverSampler(sampling_strategy='minority',random_state=4)#Se aumenta sólo el conjunto de entrenamiento\n",
    "    X_train2, y_train2 = ros.fit_resample(X_train, y_train)"
   ]
  },
  {
   "cell_type": "markdown",
   "id": "6c5a5ccb",
   "metadata": {},
   "source": [
    "#### Entrenar y validar los modelos"
   ]
  },
  {
   "cell_type": "markdown",
   "id": "609c7bd6",
   "metadata": {},
   "source": [
    "#### Decission Tree"
   ]
  },
  {
   "cell_type": "code",
   "execution_count": 71,
   "id": "62363420",
   "metadata": {},
   "outputs": [],
   "source": [
    "mejoresParametrosDT={'criterion': 'gini', 'max_depth': 20, 'auc': 0.7825859096884733,'random_state':42}"
   ]
  },
  {
   "cell_type": "code",
   "execution_count": 72,
   "id": "893c5da0",
   "metadata": {
    "scrolled": true
   },
   "outputs": [
    {
     "name": "stdout",
     "output_type": "stream",
     "text": [
      "Matriz de confusión:\n",
      "[[53114  3874]\n",
      " [  557  1509]]\n",
      "MÉTRICAS -->\n",
      " AUC: 0.831 ACC: 0.925  PREC: 0.925  RECALL: 0.925  F1: 0.925\n"
     ]
    },
    {
     "data": {
      "image/png": "[encoded data removed]",
      "text/plain": [
       "<Figure size 500x500 with 1 Axes>"
      ]
     },
     "metadata": {},
     "output_type": "display_data"
    },
    {
     "data": {
      "image/png": "[encoded data removed]",
      "text/plain": [
       "<Figure size 640x480 with 2 Axes>"
      ]
     },
     "metadata": {},
     "output_type": "display_data"
    },
    {
     "data": {
      "image/png": "[encoded data removed]",
      "text/plain": [
       "<Figure size 640x480 with 2 Axes>"
      ]
     },
     "metadata": {},
     "output_type": "display_data"
    }
   ],
   "source": [
    "del mejoresParametrosDT['auc']\n",
    "model=DecisionTreeClassifier(**mejoresParametrosDT)#Los mejores parámetros obtenidos\n",
    "model.fit(X_train2,y_train2)\n",
    "validarModeloTest(X_test,y_test,model)"
   ]
  },
  {
   "cell_type": "markdown",
   "id": "bf0ae89e",
   "metadata": {},
   "source": [
    "#### RandomForest"
   ]
  },
  {
   "cell_type": "code",
   "execution_count": null,
   "id": "a69c97b8",
   "metadata": {},
   "outputs": [],
   "source": [
    "mejoresParametrosRF={'bootstrap': True, 'min_samples_leaf': 4, 'min_samples_split': 5, 'auc': 0.8357917559535}"
   ]
  },
  {
   "cell_type": "code",
   "execution_count": 71,
   "id": "6649aa5f",
   "metadata": {
    "scrolled": true
   },
   "outputs": [
    {
     "name": "stderr",
     "output_type": "stream",
     "text": [
      "C:\\Users\\NitroPC\\AppData\\Local\\Temp\\ipykernel_11284\\2060627099.py:2: DataConversionWarning: A column-vector y was passed when a 1d array was expected. Please change the shape of y to (n_samples,), for example using ravel().\n",
      "  model.fit(X_train2,y_train2)\n"
     ]
    },
    {
     "ename": "KeyboardInterrupt",
     "evalue": "",
     "output_type": "error",
     "traceback": [
      "\u001b[1;31m---------------------------------------------------------------------------\u001b[0m",
      "\u001b[1;31mKeyboardInterrupt\u001b[0m                         Traceback (most recent call last)",
      "\u001b[1;32m~\\AppData\\Local\\Temp\\ipykernel_11284\\2060627099.py\u001b[0m in \u001b[0;36m<module>\u001b[1;34m\u001b[0m\n\u001b[0;32m      1\u001b[0m \u001b[0mmodel\u001b[0m\u001b[1;33m=\u001b[0m\u001b[0mRandomForestClassifier\u001b[0m\u001b[1;33m(\u001b[0m\u001b[1;33m)\u001b[0m\u001b[1;31m#Los mejores parámetros obtenidos\u001b[0m\u001b[1;33m\u001b[0m\u001b[1;33m\u001b[0m\u001b[0m\n\u001b[1;32m----> 2\u001b[1;33m \u001b[0mmodel\u001b[0m\u001b[1;33m.\u001b[0m\u001b[0mfit\u001b[0m\u001b[1;33m(\u001b[0m\u001b[0mX_train2\u001b[0m\u001b[1;33m,\u001b[0m\u001b[0my_train2\u001b[0m\u001b[1;33m)\u001b[0m\u001b[1;33m\u001b[0m\u001b[1;33m\u001b[0m\u001b[0m\n\u001b[0m\u001b[0;32m      3\u001b[0m \u001b[0mvalidarModeloTest\u001b[0m\u001b[1;33m(\u001b[0m\u001b[0mX_test\u001b[0m\u001b[1;33m,\u001b[0m\u001b[0my_test\u001b[0m\u001b[1;33m,\u001b[0m\u001b[0mmodel\u001b[0m\u001b[1;33m)\u001b[0m\u001b[1;33m\u001b[0m\u001b[1;33m\u001b[0m\u001b[0m\n",
      "\u001b[1;32m~\\anaconda3\\lib\\site-packages\\sklearn\\ensemble\\_forest.py\u001b[0m in \u001b[0;36mfit\u001b[1;34m(self, X, y, sample_weight)\u001b[0m\n\u001b[0;32m    448\u001b[0m             \u001b[1;31m# parallel_backend contexts set at a higher level,\u001b[0m\u001b[1;33m\u001b[0m\u001b[1;33m\u001b[0m\u001b[0m\n\u001b[0;32m    449\u001b[0m             \u001b[1;31m# since correctness does not rely on using threads.\u001b[0m\u001b[1;33m\u001b[0m\u001b[1;33m\u001b[0m\u001b[0m\n\u001b[1;32m--> 450\u001b[1;33m             trees = Parallel(\n\u001b[0m\u001b[0;32m    451\u001b[0m                 \u001b[0mn_jobs\u001b[0m\u001b[1;33m=\u001b[0m\u001b[0mself\u001b[0m\u001b[1;33m.\u001b[0m\u001b[0mn_jobs\u001b[0m\u001b[1;33m,\u001b[0m\u001b[1;33m\u001b[0m\u001b[1;33m\u001b[0m\u001b[0m\n\u001b[0;32m    452\u001b[0m                 \u001b[0mverbose\u001b[0m\u001b[1;33m=\u001b[0m\u001b[0mself\u001b[0m\u001b[1;33m.\u001b[0m\u001b[0mverbose\u001b[0m\u001b[1;33m,\u001b[0m\u001b[1;33m\u001b[0m\u001b[1;33m\u001b[0m\u001b[0m\n",
      "\u001b[1;32m~\\anaconda3\\lib\\site-packages\\joblib\\parallel.py\u001b[0m in \u001b[0;36m__call__\u001b[1;34m(self, iterable)\u001b[0m\n\u001b[0;32m   1086\u001b[0m                 \u001b[0mself\u001b[0m\u001b[1;33m.\u001b[0m\u001b[0m_iterating\u001b[0m \u001b[1;33m=\u001b[0m \u001b[0mself\u001b[0m\u001b[1;33m.\u001b[0m\u001b[0m_original_iterator\u001b[0m \u001b[1;32mis\u001b[0m \u001b[1;32mnot\u001b[0m \u001b[1;32mNone\u001b[0m\u001b[1;33m\u001b[0m\u001b[1;33m\u001b[0m\u001b[0m\n\u001b[0;32m   1087\u001b[0m \u001b[1;33m\u001b[0m\u001b[0m\n\u001b[1;32m-> 1088\u001b[1;33m             \u001b[1;32mwhile\u001b[0m \u001b[0mself\u001b[0m\u001b[1;33m.\u001b[0m\u001b[0mdispatch_one_batch\u001b[0m\u001b[1;33m(\u001b[0m\u001b[0miterator\u001b[0m\u001b[1;33m)\u001b[0m\u001b[1;33m:\u001b[0m\u001b[1;33m\u001b[0m\u001b[1;33m\u001b[0m\u001b[0m\n\u001b[0m\u001b[0;32m   1089\u001b[0m                 \u001b[1;32mpass\u001b[0m\u001b[1;33m\u001b[0m\u001b[1;33m\u001b[0m\u001b[0m\n\u001b[0;32m   1090\u001b[0m \u001b[1;33m\u001b[0m\u001b[0m\n",
      "\u001b[1;32m~\\anaconda3\\lib\\site-packages\\joblib\\parallel.py\u001b[0m in \u001b[0;36mdispatch_one_batch\u001b[1;34m(self, iterator)\u001b[0m\n\u001b[0;32m    899\u001b[0m                 \u001b[1;32mreturn\u001b[0m \u001b[1;32mFalse\u001b[0m\u001b[1;33m\u001b[0m\u001b[1;33m\u001b[0m\u001b[0m\n\u001b[0;32m    900\u001b[0m             \u001b[1;32melse\u001b[0m\u001b[1;33m:\u001b[0m\u001b[1;33m\u001b[0m\u001b[1;33m\u001b[0m\u001b[0m\n\u001b[1;32m--> 901\u001b[1;33m                 \u001b[0mself\u001b[0m\u001b[1;33m.\u001b[0m\u001b[0m_dispatch\u001b[0m\u001b[1;33m(\u001b[0m\u001b[0mtasks\u001b[0m\u001b[1;33m)\u001b[0m\u001b[1;33m\u001b[0m\u001b[1;33m\u001b[0m\u001b[0m\n\u001b[0m\u001b[0;32m    902\u001b[0m                 \u001b[1;32mreturn\u001b[0m \u001b[1;32mTrue\u001b[0m\u001b[1;33m\u001b[0m\u001b[1;33m\u001b[0m\u001b[0m\n\u001b[0;32m    903\u001b[0m \u001b[1;33m\u001b[0m\u001b[0m\n",
      "\u001b[1;32m~\\anaconda3\\lib\\site-packages\\joblib\\parallel.py\u001b[0m in \u001b[0;36m_dispatch\u001b[1;34m(self, batch)\u001b[0m\n\u001b[0;32m    817\u001b[0m         \u001b[1;32mwith\u001b[0m \u001b[0mself\u001b[0m\u001b[1;33m.\u001b[0m\u001b[0m_lock\u001b[0m\u001b[1;33m:\u001b[0m\u001b[1;33m\u001b[0m\u001b[1;33m\u001b[0m\u001b[0m\n\u001b[0;32m    818\u001b[0m             \u001b[0mjob_idx\u001b[0m \u001b[1;33m=\u001b[0m \u001b[0mlen\u001b[0m\u001b[1;33m(\u001b[0m\u001b[0mself\u001b[0m\u001b[1;33m.\u001b[0m\u001b[0m_jobs\u001b[0m\u001b[1;33m)\u001b[0m\u001b[1;33m\u001b[0m\u001b[1;33m\u001b[0m\u001b[0m\n\u001b[1;32m--> 819\u001b[1;33m             \u001b[0mjob\u001b[0m \u001b[1;33m=\u001b[0m \u001b[0mself\u001b[0m\u001b[1;33m.\u001b[0m\u001b[0m_backend\u001b[0m\u001b[1;33m.\u001b[0m\u001b[0mapply_async\u001b[0m\u001b[1;33m(\u001b[0m\u001b[0mbatch\u001b[0m\u001b[1;33m,\u001b[0m \u001b[0mcallback\u001b[0m\u001b[1;33m=\u001b[0m\u001b[0mcb\u001b[0m\u001b[1;33m)\u001b[0m\u001b[1;33m\u001b[0m\u001b[1;33m\u001b[0m\u001b[0m\n\u001b[0m\u001b[0;32m    820\u001b[0m             \u001b[1;31m# A job can complete so quickly than its callback is\u001b[0m\u001b[1;33m\u001b[0m\u001b[1;33m\u001b[0m\u001b[0m\n\u001b[0;32m    821\u001b[0m             \u001b[1;31m# called before we get here, causing self._jobs to\u001b[0m\u001b[1;33m\u001b[0m\u001b[1;33m\u001b[0m\u001b[0m\n",
      "\u001b[1;32m~\\anaconda3\\lib\\site-packages\\joblib\\_parallel_backends.py\u001b[0m in \u001b[0;36mapply_async\u001b[1;34m(self, func, callback)\u001b[0m\n\u001b[0;32m    206\u001b[0m     \u001b[1;32mdef\u001b[0m \u001b[0mapply_async\u001b[0m\u001b[1;33m(\u001b[0m\u001b[0mself\u001b[0m\u001b[1;33m,\u001b[0m \u001b[0mfunc\u001b[0m\u001b[1;33m,\u001b[0m \u001b[0mcallback\u001b[0m\u001b[1;33m=\u001b[0m\u001b[1;32mNone\u001b[0m\u001b[1;33m)\u001b[0m\u001b[1;33m:\u001b[0m\u001b[1;33m\u001b[0m\u001b[1;33m\u001b[0m\u001b[0m\n\u001b[0;32m    207\u001b[0m         \u001b[1;34m\"\"\"Schedule a func to be run\"\"\"\u001b[0m\u001b[1;33m\u001b[0m\u001b[1;33m\u001b[0m\u001b[0m\n\u001b[1;32m--> 208\u001b[1;33m         \u001b[0mresult\u001b[0m \u001b[1;33m=\u001b[0m \u001b[0mImmediateResult\u001b[0m\u001b[1;33m(\u001b[0m\u001b[0mfunc\u001b[0m\u001b[1;33m)\u001b[0m\u001b[1;33m\u001b[0m\u001b[1;33m\u001b[0m\u001b[0m\n\u001b[0m\u001b[0;32m    209\u001b[0m         \u001b[1;32mif\u001b[0m \u001b[0mcallback\u001b[0m\u001b[1;33m:\u001b[0m\u001b[1;33m\u001b[0m\u001b[1;33m\u001b[0m\u001b[0m\n\u001b[0;32m    210\u001b[0m             \u001b[0mcallback\u001b[0m\u001b[1;33m(\u001b[0m\u001b[0mresult\u001b[0m\u001b[1;33m)\u001b[0m\u001b[1;33m\u001b[0m\u001b[1;33m\u001b[0m\u001b[0m\n",
      "\u001b[1;32m~\\anaconda3\\lib\\site-packages\\joblib\\_parallel_backends.py\u001b[0m in \u001b[0;36m__init__\u001b[1;34m(self, batch)\u001b[0m\n\u001b[0;32m    595\u001b[0m         \u001b[1;31m# Don't delay the application, to avoid keeping the input\u001b[0m\u001b[1;33m\u001b[0m\u001b[1;33m\u001b[0m\u001b[0m\n\u001b[0;32m    596\u001b[0m         \u001b[1;31m# arguments in memory\u001b[0m\u001b[1;33m\u001b[0m\u001b[1;33m\u001b[0m\u001b[0m\n\u001b[1;32m--> 597\u001b[1;33m         \u001b[0mself\u001b[0m\u001b[1;33m.\u001b[0m\u001b[0mresults\u001b[0m \u001b[1;33m=\u001b[0m \u001b[0mbatch\u001b[0m\u001b[1;33m(\u001b[0m\u001b[1;33m)\u001b[0m\u001b[1;33m\u001b[0m\u001b[1;33m\u001b[0m\u001b[0m\n\u001b[0m\u001b[0;32m    598\u001b[0m \u001b[1;33m\u001b[0m\u001b[0m\n\u001b[0;32m    599\u001b[0m     \u001b[1;32mdef\u001b[0m \u001b[0mget\u001b[0m\u001b[1;33m(\u001b[0m\u001b[0mself\u001b[0m\u001b[1;33m)\u001b[0m\u001b[1;33m:\u001b[0m\u001b[1;33m\u001b[0m\u001b[1;33m\u001b[0m\u001b[0m\n",
      "\u001b[1;32m~\\anaconda3\\lib\\site-packages\\joblib\\parallel.py\u001b[0m in \u001b[0;36m__call__\u001b[1;34m(self)\u001b[0m\n\u001b[0;32m    286\u001b[0m         \u001b[1;31m# change the default number of processes to -1\u001b[0m\u001b[1;33m\u001b[0m\u001b[1;33m\u001b[0m\u001b[0m\n\u001b[0;32m    287\u001b[0m         \u001b[1;32mwith\u001b[0m \u001b[0mparallel_backend\u001b[0m\u001b[1;33m(\u001b[0m\u001b[0mself\u001b[0m\u001b[1;33m.\u001b[0m\u001b[0m_backend\u001b[0m\u001b[1;33m,\u001b[0m \u001b[0mn_jobs\u001b[0m\u001b[1;33m=\u001b[0m\u001b[0mself\u001b[0m\u001b[1;33m.\u001b[0m\u001b[0m_n_jobs\u001b[0m\u001b[1;33m)\u001b[0m\u001b[1;33m:\u001b[0m\u001b[1;33m\u001b[0m\u001b[1;33m\u001b[0m\u001b[0m\n\u001b[1;32m--> 288\u001b[1;33m             return [func(*args, **kwargs)\n\u001b[0m\u001b[0;32m    289\u001b[0m                     for func, args, kwargs in self.items]\n\u001b[0;32m    290\u001b[0m \u001b[1;33m\u001b[0m\u001b[0m\n",
      "\u001b[1;32m~\\anaconda3\\lib\\site-packages\\joblib\\parallel.py\u001b[0m in \u001b[0;36m<listcomp>\u001b[1;34m(.0)\u001b[0m\n\u001b[0;32m    286\u001b[0m         \u001b[1;31m# change the default number of processes to -1\u001b[0m\u001b[1;33m\u001b[0m\u001b[1;33m\u001b[0m\u001b[0m\n\u001b[0;32m    287\u001b[0m         \u001b[1;32mwith\u001b[0m \u001b[0mparallel_backend\u001b[0m\u001b[1;33m(\u001b[0m\u001b[0mself\u001b[0m\u001b[1;33m.\u001b[0m\u001b[0m_backend\u001b[0m\u001b[1;33m,\u001b[0m \u001b[0mn_jobs\u001b[0m\u001b[1;33m=\u001b[0m\u001b[0mself\u001b[0m\u001b[1;33m.\u001b[0m\u001b[0m_n_jobs\u001b[0m\u001b[1;33m)\u001b[0m\u001b[1;33m:\u001b[0m\u001b[1;33m\u001b[0m\u001b[1;33m\u001b[0m\u001b[0m\n\u001b[1;32m--> 288\u001b[1;33m             return [func(*args, **kwargs)\n\u001b[0m\u001b[0;32m    289\u001b[0m                     for func, args, kwargs in self.items]\n\u001b[0;32m    290\u001b[0m \u001b[1;33m\u001b[0m\u001b[0m\n",
      "\u001b[1;32m~\\anaconda3\\lib\\site-packages\\sklearn\\utils\\fixes.py\u001b[0m in \u001b[0;36m__call__\u001b[1;34m(self, *args, **kwargs)\u001b[0m\n\u001b[0;32m    214\u001b[0m     \u001b[1;32mdef\u001b[0m \u001b[0m__call__\u001b[0m\u001b[1;33m(\u001b[0m\u001b[0mself\u001b[0m\u001b[1;33m,\u001b[0m \u001b[1;33m*\u001b[0m\u001b[0margs\u001b[0m\u001b[1;33m,\u001b[0m \u001b[1;33m**\u001b[0m\u001b[0mkwargs\u001b[0m\u001b[1;33m)\u001b[0m\u001b[1;33m:\u001b[0m\u001b[1;33m\u001b[0m\u001b[1;33m\u001b[0m\u001b[0m\n\u001b[0;32m    215\u001b[0m         \u001b[1;32mwith\u001b[0m \u001b[0mconfig_context\u001b[0m\u001b[1;33m(\u001b[0m\u001b[1;33m**\u001b[0m\u001b[0mself\u001b[0m\u001b[1;33m.\u001b[0m\u001b[0mconfig\u001b[0m\u001b[1;33m)\u001b[0m\u001b[1;33m:\u001b[0m\u001b[1;33m\u001b[0m\u001b[1;33m\u001b[0m\u001b[0m\n\u001b[1;32m--> 216\u001b[1;33m             \u001b[1;32mreturn\u001b[0m \u001b[0mself\u001b[0m\u001b[1;33m.\u001b[0m\u001b[0mfunction\u001b[0m\u001b[1;33m(\u001b[0m\u001b[1;33m*\u001b[0m\u001b[0margs\u001b[0m\u001b[1;33m,\u001b[0m \u001b[1;33m**\u001b[0m\u001b[0mkwargs\u001b[0m\u001b[1;33m)\u001b[0m\u001b[1;33m\u001b[0m\u001b[1;33m\u001b[0m\u001b[0m\n\u001b[0m\u001b[0;32m    217\u001b[0m \u001b[1;33m\u001b[0m\u001b[0m\n\u001b[0;32m    218\u001b[0m \u001b[1;33m\u001b[0m\u001b[0m\n",
      "\u001b[1;32m~\\anaconda3\\lib\\site-packages\\sklearn\\ensemble\\_forest.py\u001b[0m in \u001b[0;36m_parallel_build_trees\u001b[1;34m(tree, forest, X, y, sample_weight, tree_idx, n_trees, verbose, class_weight, n_samples_bootstrap)\u001b[0m\n\u001b[0;32m    183\u001b[0m             \u001b[0mcurr_sample_weight\u001b[0m \u001b[1;33m*=\u001b[0m \u001b[0mcompute_sample_weight\u001b[0m\u001b[1;33m(\u001b[0m\u001b[1;34m\"balanced\"\u001b[0m\u001b[1;33m,\u001b[0m \u001b[0my\u001b[0m\u001b[1;33m,\u001b[0m \u001b[0mindices\u001b[0m\u001b[1;33m=\u001b[0m\u001b[0mindices\u001b[0m\u001b[1;33m)\u001b[0m\u001b[1;33m\u001b[0m\u001b[1;33m\u001b[0m\u001b[0m\n\u001b[0;32m    184\u001b[0m \u001b[1;33m\u001b[0m\u001b[0m\n\u001b[1;32m--> 185\u001b[1;33m         \u001b[0mtree\u001b[0m\u001b[1;33m.\u001b[0m\u001b[0mfit\u001b[0m\u001b[1;33m(\u001b[0m\u001b[0mX\u001b[0m\u001b[1;33m,\u001b[0m \u001b[0my\u001b[0m\u001b[1;33m,\u001b[0m \u001b[0msample_weight\u001b[0m\u001b[1;33m=\u001b[0m\u001b[0mcurr_sample_weight\u001b[0m\u001b[1;33m,\u001b[0m \u001b[0mcheck_input\u001b[0m\u001b[1;33m=\u001b[0m\u001b[1;32mFalse\u001b[0m\u001b[1;33m)\u001b[0m\u001b[1;33m\u001b[0m\u001b[1;33m\u001b[0m\u001b[0m\n\u001b[0m\u001b[0;32m    186\u001b[0m     \u001b[1;32melse\u001b[0m\u001b[1;33m:\u001b[0m\u001b[1;33m\u001b[0m\u001b[1;33m\u001b[0m\u001b[0m\n\u001b[0;32m    187\u001b[0m         \u001b[0mtree\u001b[0m\u001b[1;33m.\u001b[0m\u001b[0mfit\u001b[0m\u001b[1;33m(\u001b[0m\u001b[0mX\u001b[0m\u001b[1;33m,\u001b[0m \u001b[0my\u001b[0m\u001b[1;33m,\u001b[0m \u001b[0msample_weight\u001b[0m\u001b[1;33m=\u001b[0m\u001b[0msample_weight\u001b[0m\u001b[1;33m,\u001b[0m \u001b[0mcheck_input\u001b[0m\u001b[1;33m=\u001b[0m\u001b[1;32mFalse\u001b[0m\u001b[1;33m)\u001b[0m\u001b[1;33m\u001b[0m\u001b[1;33m\u001b[0m\u001b[0m\n",
      "\u001b[1;32m~\\anaconda3\\lib\\site-packages\\sklearn\\tree\\_classes.py\u001b[0m in \u001b[0;36mfit\u001b[1;34m(self, X, y, sample_weight, check_input, X_idx_sorted)\u001b[0m\n\u001b[0;32m    935\u001b[0m         \"\"\"\n\u001b[0;32m    936\u001b[0m \u001b[1;33m\u001b[0m\u001b[0m\n\u001b[1;32m--> 937\u001b[1;33m         super().fit(\n\u001b[0m\u001b[0;32m    938\u001b[0m             \u001b[0mX\u001b[0m\u001b[1;33m,\u001b[0m\u001b[1;33m\u001b[0m\u001b[1;33m\u001b[0m\u001b[0m\n\u001b[0;32m    939\u001b[0m             \u001b[0my\u001b[0m\u001b[1;33m,\u001b[0m\u001b[1;33m\u001b[0m\u001b[1;33m\u001b[0m\u001b[0m\n",
      "\u001b[1;32m~\\anaconda3\\lib\\site-packages\\sklearn\\tree\\_classes.py\u001b[0m in \u001b[0;36mfit\u001b[1;34m(self, X, y, sample_weight, check_input, X_idx_sorted)\u001b[0m\n\u001b[0;32m    418\u001b[0m             )\n\u001b[0;32m    419\u001b[0m \u001b[1;33m\u001b[0m\u001b[0m\n\u001b[1;32m--> 420\u001b[1;33m         \u001b[0mbuilder\u001b[0m\u001b[1;33m.\u001b[0m\u001b[0mbuild\u001b[0m\u001b[1;33m(\u001b[0m\u001b[0mself\u001b[0m\u001b[1;33m.\u001b[0m\u001b[0mtree_\u001b[0m\u001b[1;33m,\u001b[0m \u001b[0mX\u001b[0m\u001b[1;33m,\u001b[0m \u001b[0my\u001b[0m\u001b[1;33m,\u001b[0m \u001b[0msample_weight\u001b[0m\u001b[1;33m)\u001b[0m\u001b[1;33m\u001b[0m\u001b[1;33m\u001b[0m\u001b[0m\n\u001b[0m\u001b[0;32m    421\u001b[0m \u001b[1;33m\u001b[0m\u001b[0m\n\u001b[0;32m    422\u001b[0m         \u001b[1;32mif\u001b[0m \u001b[0mself\u001b[0m\u001b[1;33m.\u001b[0m\u001b[0mn_outputs_\u001b[0m \u001b[1;33m==\u001b[0m \u001b[1;36m1\u001b[0m \u001b[1;32mand\u001b[0m \u001b[0mis_classifier\u001b[0m\u001b[1;33m(\u001b[0m\u001b[0mself\u001b[0m\u001b[1;33m)\u001b[0m\u001b[1;33m:\u001b[0m\u001b[1;33m\u001b[0m\u001b[1;33m\u001b[0m\u001b[0m\n",
      "\u001b[1;31mKeyboardInterrupt\u001b[0m: "
     ]
    }
   ],
   "source": [
    "del mejoresParametrosRF['auc']\n",
    "model=RandomForestClassifier(**mejoresParametrosRF)#Los mejores parámetros obtenidos\n",
    "model.fit(X_train2,y_train2)\n",
    "validarModeloTest(X_test,y_test,model)"
   ]
  },
  {
   "cell_type": "markdown",
   "id": "b31324e1",
   "metadata": {},
   "source": [
    "#### CatBoost"
   ]
  },
  {
   "cell_type": "code",
   "execution_count": 75,
   "id": "9d78e68e",
   "metadata": {},
   "outputs": [],
   "source": [
    "mejoresParametrosCB={'learning_rate': 0.1, 'depth': 10, 'l2_leaf_reg': 15, 'logging_level': 'Silent', 'auc': 0.8791873478414072}"
   ]
  },
  {
   "cell_type": "code",
   "execution_count": 76,
   "id": "1665f2a6",
   "metadata": {
    "scrolled": true
   },
   "outputs": [
    {
     "name": "stdout",
     "output_type": "stream",
     "text": [
      "Matriz de confusión:\n",
      "[[55167  1809]\n",
      " [  366  1699]]\n",
      "MÉTRICAS -->\n",
      " AUC: 0.896 ACC: 0.963  PREC: 0.963  RECALL: 0.963  F1: 0.963\n"
     ]
    },
    {
     "data": {
      "image/png": "[encoded data removed]",
      "text/plain": [
       "<Figure size 500x500 with 1 Axes>"
      ]
     },
     "metadata": {},
     "output_type": "display_data"
    },
    {
     "data": {
      "image/png": "[encoded data removed]",
      "text/plain": [
       "<Figure size 640x480 with 2 Axes>"
      ]
     },
     "metadata": {},
     "output_type": "display_data"
    },
    {
     "data": {
      "image/png": "[encoded data removed]",
      "text/plain": [
       "<Figure size 640x480 with 2 Axes>"
      ]
     },
     "metadata": {},
     "output_type": "display_data"
    }
   ],
   "source": [
    "del mejoresParametrosCB['auc']\n",
    "#model2=CatBoostClassifier(depth=10, silent=True)#AUC: 0.892 ACC: 0.976  PREC: 0.976  RECALL: 0.976  F1: 0.976\n",
    "model2=CatBoostClassifier(**mejoresParametrosCB)#Los mejores parámetros obtenidos\n",
    "#model2=CatBoostClassifier(silent=True)\n",
    "model2.fit(X_train2,y_train2)\n",
    "validarModeloTest(X_test,y_test,model2)"
   ]
  },
  {
   "cell_type": "code",
   "execution_count": null,
   "id": "5897a326",
   "metadata": {},
   "outputs": [],
   "source": []
  },
  {
   "cell_type": "code",
   "execution_count": null,
   "id": "000000f4",
   "metadata": {},
   "outputs": [],
   "source": [
    "#n_estimators=5000,\n",
    "#            max_depth=12,\n",
    "#            learning_rate=0.02,\n",
    "#            subsample=0.8,\n",
    "#            colsample_bytree=0.4,\n",
    "#            missing=-1,"
   ]
  },
  {
   "cell_type": "code",
   "execution_count": 156,
   "id": "43bc6d55",
   "metadata": {},
   "outputs": [],
   "source": [
    "#mejoresParametrosXG={'max_depth':10} #0.870\n",
    "#mejoresParametrosXG={'max_depth':12} #0.88\n",
    "mejoresParametrosXG={'max_depth':12,'eta':0.1} #0.88\n",
    "\n",
    "mejoresParametrosXG={'max_depth': 12, 'min_child_weight': 5, 'learning_rate': 0.1, 'auc': 0.8666629585247968}"
   ]
  },
  {
   "cell_type": "code",
   "execution_count": 157,
   "id": "f0f5b9ca",
   "metadata": {
    "scrolled": true
   },
   "outputs": [
    {
     "name": "stdout",
     "output_type": "stream",
     "text": [
      "Matriz de confusión:\n",
      "[[54596  2380]\n",
      " [  427  1638]]\n",
      "MÉTRICAS -->\n",
      " AUC: 0.876 ACC: 0.952  PREC: 0.952  RECALL: 0.952  F1: 0.952\n"
     ]
    },
    {
     "data": {
      "image/png": "[encoded data removed]",
      "text/plain": [
       "<Figure size 500x500 with 1 Axes>"
      ]
     },
     "metadata": {},
     "output_type": "display_data"
    },
    {
     "data": {
      "image/png": "[encoded data removed]",
      "text/plain": [
       "<Figure size 640x480 with 2 Axes>"
      ]
     },
     "metadata": {},
     "output_type": "display_data"
    },
    {
     "data": {
      "image/png": "[encoded data removed]",
      "text/plain": [
       "<Figure size 640x480 with 2 Axes>"
      ]
     },
     "metadata": {},
     "output_type": "display_data"
    }
   ],
   "source": [
    "#modelGB=XGBClassifier()#Los mejores parámetros obtenidos --> sin parmámetors:0.863\n",
    "del mejoresParametrosXG['auc']\n",
    "#modelGB=XGBClassifier()\n",
    "modelGB=XGBClassifier(**mejoresParametrosXG)\n",
    "modelGB.fit(X_train2,y_train2)\n",
    "validarModeloTest(X_test,y_test,modelGB)"
   ]
  },
  {
   "cell_type": "code",
   "execution_count": null,
   "id": "d4a73e99",
   "metadata": {},
   "outputs": [],
   "source": [
    "#scale_pos_weight eta:01 "
   ]
  },
  {
   "cell_type": "code",
   "execution_count": null,
   "id": "b6df1fec",
   "metadata": {},
   "outputs": [],
   "source": [
    "#max_depth: 4\n",
    "#min_child_weight: 6\n",
    "#gamma: 0"
   ]
  },
  {
   "cell_type": "code",
   "execution_count": null,
   "id": "2416eed1",
   "metadata": {},
   "outputs": [],
   "source": []
  },
  {
   "cell_type": "code",
   "execution_count": null,
   "id": "4bd5a90b",
   "metadata": {},
   "outputs": [],
   "source": []
  },
  {
   "cell_type": "code",
   "execution_count": null,
   "id": "29a3496a",
   "metadata": {},
   "outputs": [],
   "source": []
  },
  {
   "cell_type": "code",
   "execution_count": null,
   "id": "826e02dc",
   "metadata": {},
   "outputs": [],
   "source": []
  },
  {
   "cell_type": "code",
   "execution_count": null,
   "id": "db52dfaf",
   "metadata": {},
   "outputs": [],
   "source": []
  }
 ],
 "metadata": {
  "kernelspec": {
   "display_name": "Python 3 (ipykernel)",
   "language": "python",
   "name": "python3"
  },
  "language_info": {
   "codemirror_mode": {
    "name": "ipython",
    "version": 3
   },
   "file_extension": ".py",
   "mimetype": "text/x-python",
   "name": "python",
   "nbconvert_exporter": "python",
   "pygments_lexer": "ipython3",
   "version": "3.9.13"
  }
 },
 "nbformat": 4,
 "nbformat_minor": 5
}
